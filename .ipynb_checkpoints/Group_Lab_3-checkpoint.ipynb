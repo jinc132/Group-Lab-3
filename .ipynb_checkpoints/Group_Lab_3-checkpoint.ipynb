{
 "cells": [
  {
   "cell_type": "markdown",
   "metadata": {},
   "source": [
    "## PART 1"
   ]
  },
  {
   "cell_type": "markdown",
   "metadata": {},
   "source": [
    "### __\"What makes a state \"urban\" or \"not urban\"?__\n",
    "An urban area is the region that surrounds a city. Also, urban areas usually refers to a human settlement that has high population density and infrustructure of a built environment [(SOURCE: Wikipedia)](https://en.wikipedia.org/wiki/Urban_area). Urban areas include towns and cities - places where opportunities for education, transportation, business and social interaction and overall better standard of living are prevalent [(SOURCE)](http://www.differencebetween.net/miscellaneous/difference-between-urban-and-rural/). Places with urban areas are filled with densely deveoloped territory and encompass residential, commercial, and other non-residential urban land uses. \n",
    "\n",
    "While \"urban\" areas contain a large amount of human activity, \"not urban\" areas (commonly referred to as rural areas) have less representation of infrastructure. Rural areas are located outside towns and cities. Rural areas have a low representation of population density and small settlements (villages). \n",
    "\n",
    "### _Examples of urban areas and rural areas\n",
    "- [Los Angeles, CA](https://en.wikipedia.org/wiki/Greater_Los_Angeles): With a population of nearly 18 million, Los Angeles is filled with opportunities and has a high population density. \n",
    "- [Leavenworth, WA](https://www.onlyinyourstate.com/washington/delightful-small-towns-rural-wa/): This rural town had a population of 1,979 in 2014. [(SOURCE: City-data)](http://www.city-data.com/city/Leavenworth-Washington.html)\n"
   ]
  },
  {
   "cell_type": "markdown",
   "metadata": {},
   "source": [
    "## PART 3"
   ]
  },
  {
   "cell_type": "code",
   "execution_count": 1,
   "metadata": {},
   "outputs": [
    {
     "ename": "ImportError",
     "evalue": "No module named geopandas",
     "output_type": "error",
     "traceback": [
      "\u001b[1;31m---------------------------------------------------------------------------\u001b[0m",
      "\u001b[1;31mImportError\u001b[0m                               Traceback (most recent call last)",
      "\u001b[1;32m<ipython-input-1-837e723acdf5>\u001b[0m in \u001b[0;36m<module>\u001b[1;34m()\u001b[0m\n\u001b[1;32m----> 1\u001b[1;33m \u001b[1;32mimport\u001b[0m \u001b[0mgeopandas\u001b[0m \u001b[1;32mas\u001b[0m \u001b[0mgpd\u001b[0m\u001b[1;33m\u001b[0m\u001b[0m\n\u001b[0m\u001b[0;32m      2\u001b[0m \u001b[1;32mimport\u001b[0m \u001b[0mnumpy\u001b[0m \u001b[1;32mas\u001b[0m \u001b[0mnp\u001b[0m\u001b[1;33m\u001b[0m\u001b[0m\n\u001b[0;32m      3\u001b[0m \u001b[1;33m\u001b[0m\u001b[0m\n\u001b[0;32m      4\u001b[0m \u001b[0mdatafile\u001b[0m \u001b[1;33m=\u001b[0m \u001b[0mopen\u001b[0m\u001b[1;33m(\u001b[0m\u001b[1;34m\"./data/WashingtonFIPS.dbf\"\u001b[0m\u001b[1;33m,\u001b[0m \u001b[1;34m\"rb\"\u001b[0m\u001b[1;33m)\u001b[0m\u001b[1;33m\u001b[0m\u001b[0m\n\u001b[0;32m      5\u001b[0m \u001b[0mdata\u001b[0m \u001b[1;33m=\u001b[0m \u001b[0mdatafile\u001b[0m\u001b[1;33m.\u001b[0m\u001b[0mread\u001b[0m\u001b[1;33m(\u001b[0m\u001b[1;33m)\u001b[0m\u001b[1;33m\u001b[0m\u001b[0m\n",
      "\u001b[1;31mImportError\u001b[0m: No module named geopandas"
     ]
    }
   ],
   "source": [
    "import geopandas as gpd\n",
    "import numpy as np\n",
    "\n",
    "datafile = open(\"./data/WashingtonFIPS.dbf\", \"rb\")\n",
    "data = datafile.read()\n",
    "\n",
    "print(data)"
   ]
  },
  {
   "cell_type": "code",
   "execution_count": null,
   "metadata": {},
   "outputs": [],
   "source": [
    "shapefile = gpd.read_file(\"./data/saep_bg10/saep_bg10.shp\")\n",
    "print(shapefile.head(10))"
   ]
  },
  {
   "cell_type": "code",
   "execution_count": null,
   "metadata": {},
   "outputs": [],
   "source": [
    "shapefile['block_category'] = np.nan\n",
    "\n",
    "# Iterate through the data file and categorize each block group value as urban or rural.\n"
   ]
  },
  {
   "cell_type": "code",
   "execution_count": null,
   "metadata": {},
   "outputs": [],
   "source": []
  }
 ],
 "metadata": {
  "kernelspec": {
   "display_name": "Python 2",
   "language": "python",
   "name": "python2"
  },
  "language_info": {
   "codemirror_mode": {
    "name": "ipython",
    "version": 2
   },
   "file_extension": ".py",
   "mimetype": "text/x-python",
   "name": "python",
   "nbconvert_exporter": "python",
   "pygments_lexer": "ipython2",
   "version": "2.7.15"
  }
 },
 "nbformat": 4,
 "nbformat_minor": 2
}
