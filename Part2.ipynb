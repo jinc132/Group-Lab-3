{
 "cells": [
  {
   "cell_type": "markdown",
   "metadata": {},
   "source": [
    "# Part 2\n",
    "\n",
    "Here, we are tasked with creating shapefiles (from a larger shapefile) of Washington counties that contain the block groups for that county. In addition, we will also be printing out a ranked list of the 10 largest total populations in 2017 of Washington counties. More details are provided below in the comments. This [file](https://canvas.uw.edu/files/53923008/download?download_frd=1) has been referenced to produce the code here"
   ]
  },
  {
   "cell_type": "code",
   "execution_count": 6,
   "metadata": {},
   "outputs": [],
   "source": [
    "import geopandas as gpd"
   ]
  },
  {
   "cell_type": "code",
   "execution_count": 2,
   "metadata": {
    "scrolled": true
   },
   "outputs": [],
   "source": [
    "data = r\"C:\\Users\\Kevin\\Downloads\\GEOG_458\\saep_bg10\\saep_bg10.shp\"\n",
    "shapef = gpd.read_file(data)"
   ]
  },
  {
   "cell_type": "code",
   "execution_count": 8,
   "metadata": {
    "scrolled": true
   },
   "outputs": [],
   "source": [
    "# changed the 'FIPSCounty' column name in the dbf file to match the corresponding column in the shapefile\n",
    "# remomved 'geometry' column as it is not necessary. Axis setting specifies whether to remove the row or coulmn; in this\n",
    "# case it is coulmn\n",
    "\n",
    "FIPS_table = gpd.read_file(r\"C:\\Users\\Kevin\\Downloads\\GEOG_458\\WashingtonFIPS.dbf\")\n",
    "FIPS_table.rename(columns = {'FIPSCounty':'COUNTYFP10'}, inplace = True)\n",
    "FIPS_table.drop('geometry', axis = 1, inplace = True)"
   ]
  },
  {
   "cell_type": "code",
   "execution_count": 13,
   "metadata": {},
   "outputs": [],
   "source": [
    "# created a join key in which the two files will be joined based on a shared attribute\n",
    "\n",
    "Join_key = 'COUNTYFP10'\n",
    "shapef_named = shapef.merge(FIPS_table, on = Join_key)"
   ]
  },
  {
   "cell_type": "code",
   "execution_count": 5,
   "metadata": {},
   "outputs": [
    {
     "name": "stdout",
     "output_type": "stream",
     "text": [
      "Outputting C:/Users/Kevin/Downloads/GEOG_458/Adams.shp\n",
      "Outputting C:/Users/Kevin/Downloads/GEOG_458/Asotin.shp\n",
      "Outputting C:/Users/Kevin/Downloads/GEOG_458/Benton.shp\n",
      "Outputting C:/Users/Kevin/Downloads/GEOG_458/Chelan.shp\n",
      "Outputting C:/Users/Kevin/Downloads/GEOG_458/Clallam.shp\n",
      "Outputting C:/Users/Kevin/Downloads/GEOG_458/Clark.shp\n",
      "Outputting C:/Users/Kevin/Downloads/GEOG_458/Columbia.shp\n",
      "Outputting C:/Users/Kevin/Downloads/GEOG_458/Cowlitz.shp\n",
      "Outputting C:/Users/Kevin/Downloads/GEOG_458/Douglas.shp\n",
      "Outputting C:/Users/Kevin/Downloads/GEOG_458/Ferry.shp\n",
      "Outputting C:/Users/Kevin/Downloads/GEOG_458/Franklin.shp\n",
      "Outputting C:/Users/Kevin/Downloads/GEOG_458/Garfield.shp\n",
      "Outputting C:/Users/Kevin/Downloads/GEOG_458/Grant.shp\n",
      "Outputting C:/Users/Kevin/Downloads/GEOG_458/Grays Harbor.shp\n",
      "Outputting C:/Users/Kevin/Downloads/GEOG_458/Island.shp\n",
      "Outputting C:/Users/Kevin/Downloads/GEOG_458/Jefferson.shp\n",
      "Outputting C:/Users/Kevin/Downloads/GEOG_458/King.shp\n",
      "Outputting C:/Users/Kevin/Downloads/GEOG_458/Kitsap.shp\n",
      "Outputting C:/Users/Kevin/Downloads/GEOG_458/Kittitas.shp\n",
      "Outputting C:/Users/Kevin/Downloads/GEOG_458/Klickitat.shp\n",
      "Outputting C:/Users/Kevin/Downloads/GEOG_458/Lewis.shp\n",
      "Outputting C:/Users/Kevin/Downloads/GEOG_458/Lincoln.shp\n",
      "Outputting C:/Users/Kevin/Downloads/GEOG_458/Mason.shp\n",
      "Outputting C:/Users/Kevin/Downloads/GEOG_458/Okanogan.shp\n",
      "Outputting C:/Users/Kevin/Downloads/GEOG_458/Pacific.shp\n",
      "Outputting C:/Users/Kevin/Downloads/GEOG_458/Pend Oreille.shp\n",
      "Outputting C:/Users/Kevin/Downloads/GEOG_458/Pierce.shp\n",
      "Outputting C:/Users/Kevin/Downloads/GEOG_458/San Juan.shp\n",
      "Outputting C:/Users/Kevin/Downloads/GEOG_458/Skagit.shp\n",
      "Outputting C:/Users/Kevin/Downloads/GEOG_458/Skamania.shp\n",
      "Outputting C:/Users/Kevin/Downloads/GEOG_458/Snohomish.shp\n",
      "Outputting C:/Users/Kevin/Downloads/GEOG_458/Spokane.shp\n",
      "Outputting C:/Users/Kevin/Downloads/GEOG_458/Stevens.shp\n",
      "Outputting C:/Users/Kevin/Downloads/GEOG_458/Thurston.shp\n",
      "Outputting C:/Users/Kevin/Downloads/GEOG_458/Wahkiakum.shp\n",
      "Outputting C:/Users/Kevin/Downloads/GEOG_458/Walla Walla.shp\n",
      "Outputting C:/Users/Kevin/Downloads/GEOG_458/Whatcom.shp\n",
      "Outputting C:/Users/Kevin/Downloads/GEOG_458/Whitman.shp\n",
      "Outputting C:/Users/Kevin/Downloads/GEOG_458/Yakima.shp\n"
     ]
    }
   ],
   "source": [
    "# This loops through county names in the dbf file and writes out a shapefile for each county. The .shp files are named \n",
    "# after the county and only contains the block groups for that particular place\n",
    "\n",
    "for county in FIPS_table['CountyName']:\n",
    "    output = 'C:/Users/Kevin/Downloads/GEOG_458/' + county + \".shp\"\n",
    "    print \"Outputting \" + output\n",
    "    shapef_named[shapef_named['CountyName'] == county].to_file(output)"
   ]
  },
  {
   "cell_type": "code",
   "execution_count": 12,
   "metadata": {},
   "outputs": [
    {
     "data": {
      "text/plain": [
       "CountyName\n",
       "King         2153700.0\n",
       "Pierce        859400.0\n",
       "Snohomish     789400.0\n",
       "Spokane       499800.0\n",
       "Clark         471000.0\n",
       "Thurston      276900.0\n",
       "Kitsap        264300.0\n",
       "Yakima        253000.0\n",
       "Whatcom       216300.0\n",
       "Benton        193500.0\n",
       "Name: POP2017, dtype: float64"
      ]
     },
     "execution_count": 12,
     "metadata": {},
     "output_type": "execute_result"
    }
   ],
   "source": [
    "(shapef_named\n",
    ".groupby([\"CountyName\"])\n",
    ".sum()[\"POP2017\"]\n",
    ".sort_values(ascending = False)\n",
    ")[:10]"
   ]
  }
 ],
 "metadata": {
  "kernelspec": {
   "display_name": "Python 2",
   "language": "python",
   "name": "python2"
  },
  "language_info": {
   "codemirror_mode": {
    "name": "ipython",
    "version": 2
   },
   "file_extension": ".py",
   "mimetype": "text/x-python",
   "name": "python",
   "nbconvert_exporter": "python",
   "pygments_lexer": "ipython2",
   "version": "2.7.15"
  }
 },
 "nbformat": 4,
 "nbformat_minor": 2
}
