{
 "cells": [
  {
   "cell_type": "code",
   "execution_count": 1,
   "metadata": {},
   "outputs": [],
   "source": [
    "import geopandas as gpd\n",
    "import os"
   ]
  },
  {
   "cell_type": "markdown",
   "metadata": {},
   "source": [
    "# <center>__Group Lab 3: Comparative Urban Change in US States__</center>\n",
    "\n",
    "__Authors:__ Kevin Ho, Carmelita Deleon, Jin Chang, Billy Wang, Alisha Husain <br>\n",
    "__Date:__ February 20, 2019"
   ]
  },
  {
   "cell_type": "markdown",
   "metadata": {},
   "source": [
    "## PART 1"
   ]
  },
  {
   "cell_type": "markdown",
   "metadata": {},
   "source": [
    "### __What makes a state \"urban\" or \"not urban\"?__\n",
    "An urban area is the region that surrounds a city. Also, urban areas usually refers to a human settlement that has high population density and infrustructure of a built environment [(SOURCE: Wikipedia)](https://en.wikipedia.org/wiki/Urban_area). Urban areas include towns and cities - places where opportunities for education, transportation, business and social interaction and overall better standard of living are prevalent [(SOURCE)](http://www.differencebetween.net/miscellaneous/difference-between-urban-and-rural/). Places with urban areas are filled with densely deveoloped territory and encompass residential, commercial, and other non-residential urban land uses. \n",
    "\n",
    "While \"urban\" areas contain a large amount of human activity, \"not urban\" areas (commonly referred to as rural areas) have less representation of infrastructure. Rural areas are located outside towns and cities. Rural areas have a low representation of population density and small settlements (villages). \n",
    "\n",
    "### _Examples of urban areas and rural areas_\n",
    "- [Los Angeles, CA](https://en.wikipedia.org/wiki/Greater_Los_Angeles): With a population of nearly 18 million, Los Angeles is filled with opportunities and has a high population density. \n",
    "- [Leavenworth, WA](https://www.onlyinyourstate.com/washington/delightful-small-towns-rural-wa/): This rural town had a population of 1,979 in 2014. [(SOURCE: City-data)](http://www.city-data.com/city/Leavenworth-Washington.html)\n",
    "\n",
    "### Overview of the data\n",
    "\n",
    "### Potential issues with using US Census data (demographic)"
   ]
  },
  {
   "cell_type": "markdown",
   "metadata": {},
   "source": [
    "## PART 2\n",
    "Here, we are tasked with creating shapefiles (from a larger shapefile) of Washington counties that contain the block groups for that county. In addition, we will also be printing out a ranked list of the 10 largest total populations in 2017 of Washington counties. More details are provided below in the comments. This [file](https://canvas.uw.edu/files/53923008/download?download_frd=1) has been referenced to produce the code here"
   ]
  },
  {
   "cell_type": "code",
   "execution_count": 2,
   "metadata": {},
   "outputs": [
    {
     "name": "stdout",
     "output_type": "stream",
     "text": [
      "  STATEFP10 COUNTYFP10 TRACTCE10 BLKGRPCE10       GEOID10     NAMELSAD10  \\\n",
      "0        53        001    950100          1  530019501001  Block Group 1   \n",
      "1        53        001    950100          2  530019501002  Block Group 2   \n",
      "2        53        001    950100          3  530019501003  Block Group 3   \n",
      "3        53        001    950200          1  530019502001  Block Group 1   \n",
      "4        53        001    950200          2  530019502002  Block Group 2   \n",
      "\n",
      "  MTFCC10 FUNCSTAT10  INTPTLON10  INTPTLAT10  ...  OHU2014  OHU2015  OHU2016  \\\n",
      "0   G5030          S -118.398815   47.150809  ...  277.494  279.680  287.530   \n",
      "1   G5030          S -118.351143   47.135101  ...  524.831  521.228  517.427   \n",
      "2   G5030          S -118.382148   47.138222  ...  246.344  243.965  242.033   \n",
      "3   G5030          S -118.219484   46.874027  ...  208.923  203.761  205.502   \n",
      "4   G5030          S -118.522323   46.968569  ...  285.857  286.251  278.398   \n",
      "\n",
      "   OHU2017  OHU2018  COHU00_10  PCOHU00_10  COHU10_18  PCOHU10_18  \\\n",
      "0  287.522  287.758     33.751       0.143     17.758       0.066   \n",
      "1  516.077  524.645      3.398       0.007     -0.355       0.000   \n",
      "2  241.365  245.491    -26.312      -0.097     -0.509      -0.002   \n",
      "3  204.547  202.854    -21.255      -0.093     -5.146      -0.025   \n",
      "4  278.400  267.983     -1.330      -0.005    -22.017      -0.076   \n",
      "\n",
      "                                            geometry  \n",
      "0  POLYGON ((2077217.074095237 640954.0110817049,...  \n",
      "1  POLYGON ((2165913.051240579 657352.8005365322,...  \n",
      "2  POLYGON ((2166254.454566129 657810.7137267586,...  \n",
      "3  POLYGON ((2150159.78406948 554295.8999707696, ...  \n",
      "4  POLYGON ((2082999.834788324 575018.8611698836,...  \n",
      "\n",
      "[5 rows x 131 columns]\n"
     ]
    }
   ],
   "source": [
    "shapefile = gpd.read_file(\"./data/saep_bg10/saep_bg10.shp\")\n",
    "\n",
    "print(shapefile.head(5))"
   ]
  },
  {
   "cell_type": "code",
   "execution_count": 9,
   "metadata": {},
   "outputs": [],
   "source": [
    "# changed the 'FIPSCounty' column name in the dbf file to match the corresponding column in the shapefile\n",
    "# remomved 'geometry' column as it is not necessary. Axis setting specifies whether to remove the row or coulmn; in this\n",
    "# case it is coulmn\n",
    "\n",
    "dbfPath = os.path.abspath(r'data/WashingtonFIPS.dbf')\n",
    "FIPS_table = gpd.read_file(dbfPath)\n",
    "FIPS_table.rename(columns = {'FIPSCounty':'COUNTYFP10'}, inplace = True)\n",
    "FIPS_table.drop('geometry', axis = 1, inplace = True)"
   ]
  },
  {
   "cell_type": "code",
   "execution_count": 7,
   "metadata": {},
   "outputs": [],
   "source": [
    "# created a join key in which the two files will be joined based on a shared attribute\n",
    "\n",
    "Join_key = 'COUNTYFP10'\n",
    "shapef_named = shapefile.merge(FIPS_table, on = Join_key)"
   ]
  },
  {
   "cell_type": "code",
   "execution_count": 10,
   "metadata": {},
   "outputs": [
    {
     "name": "stdout",
     "output_type": "stream",
     "text": [
      "Outputting data/Adams.shp\n",
      "Outputting data/Asotin.shp\n",
      "Outputting data/Benton.shp\n",
      "Outputting data/Chelan.shp\n",
      "Outputting data/Clallam.shp\n",
      "Outputting data/Clark.shp\n",
      "Outputting data/Columbia.shp\n",
      "Outputting data/Cowlitz.shp\n",
      "Outputting data/Douglas.shp\n",
      "Outputting data/Ferry.shp\n",
      "Outputting data/Franklin.shp\n",
      "Outputting data/Garfield.shp\n",
      "Outputting data/Grant.shp\n",
      "Outputting data/Grays Harbor.shp\n",
      "Outputting data/Island.shp\n",
      "Outputting data/Jefferson.shp\n",
      "Outputting data/King.shp\n",
      "Outputting data/Kitsap.shp\n",
      "Outputting data/Kittitas.shp\n",
      "Outputting data/Klickitat.shp\n",
      "Outputting data/Lewis.shp\n",
      "Outputting data/Lincoln.shp\n",
      "Outputting data/Mason.shp\n",
      "Outputting data/Okanogan.shp\n",
      "Outputting data/Pacific.shp\n",
      "Outputting data/Pend Oreille.shp\n",
      "Outputting data/Pierce.shp\n",
      "Outputting data/San Juan.shp\n",
      "Outputting data/Skagit.shp\n",
      "Outputting data/Skamania.shp\n",
      "Outputting data/Snohomish.shp\n",
      "Outputting data/Spokane.shp\n",
      "Outputting data/Stevens.shp\n",
      "Outputting data/Thurston.shp\n",
      "Outputting data/Wahkiakum.shp\n",
      "Outputting data/Walla Walla.shp\n",
      "Outputting data/Whatcom.shp\n",
      "Outputting data/Whitman.shp\n",
      "Outputting data/Yakima.shp\n"
     ]
    }
   ],
   "source": [
    "# This loops through county names in the dbf file and writes out a shapefile for each county. The .shp files are named \n",
    "# after the county and only contains the block groups for that particular place\n",
    "\n",
    "filePath = r'data/'\n",
    "for county in FIPS_table['CountyName']:\n",
    "    output = os.path.join(filePath, r\"\" + county + \".shp\")\n",
    "    print \"Outputting \" + output\n",
    "    shapef_named[shapef_named['CountyName'] == county].to_file(output)\n",
    "    "
   ]
  },
  {
   "cell_type": "code",
   "execution_count": 11,
   "metadata": {},
   "outputs": [
    {
     "data": {
      "text/plain": [
       "CountyName\n",
       "King         2153700.0\n",
       "Pierce        859400.0\n",
       "Snohomish     789400.0\n",
       "Spokane       499800.0\n",
       "Clark         471000.0\n",
       "Thurston      276900.0\n",
       "Kitsap        264300.0\n",
       "Yakima        253000.0\n",
       "Whatcom       216300.0\n",
       "Benton        193500.0\n",
       "Name: POP2017, dtype: float64"
      ]
     },
     "execution_count": 11,
     "metadata": {},
     "output_type": "execute_result"
    }
   ],
   "source": [
    "(shapef_named\n",
    ".groupby([\"CountyName\"])\n",
    ".sum()[\"POP2017\"]\n",
    ".sort_values(ascending = False)\n",
    ")[:10]"
   ]
  },
  {
   "cell_type": "markdown",
   "metadata": {},
   "source": [
    "## PART 3"
   ]
  },
  {
   "cell_type": "markdown",
   "metadata": {},
   "source": [
    "### __What Makes An Area Urban and Rural__\n",
    "Our team compared the 2018's estimated total population to a population value of 2,500. This specific value represents whether an area is considered urban or rural. An article from the [United States Census Bureau](https://www2.census.gov/geo/pdfs/reference/GARM/Ch12GARM.pdf) states that an area is classified as urban if the population density is at least 1000 residents per sq. mile. While in contrast, for rural areas the number of inhabitants would be less than that value. "
   ]
  },
  {
   "cell_type": "code",
   "execution_count": 38,
   "metadata": {},
   "outputs": [
    {
     "name": "stdout",
     "output_type": "stream",
     "text": [
      "0    rural\n",
      "1    rural\n",
      "2    rural\n",
      "3    rural\n",
      "4    rural\n",
      "Name: block_category, dtype: object\n"
     ]
    }
   ],
   "source": [
    "# 1\n",
    "shapefile['block_category'] = None\n",
    "\n",
    "# Iterate through the shapefile and categorize each block group value as urban or rural.\n",
    "for index, row in shapefile.iterrows():\n",
    "    landArea = row['ALANDMI']\n",
    "    # Prevent divisible by 0 error and check for land area == 0 \n",
    "    if landArea != 0 :\n",
    "        # Calculate the 2018 population density and classify as rural or urban\n",
    "        popDensity = row['POP2018'] / landArea\n",
    "        if popDensity >= 1000:\n",
    "            shapefile.loc[index, 'block_category'] = \"urban\"\n",
    "        else :\n",
    "            shapefile.loc[index, 'block_category'] = \"rural\"\n",
    "    else :\n",
    "        shapefile.loc[index, 'block_category'] = \"rural\"\n",
    "\n",
    "print(shapefile['block_category'].head())"
   ]
  },
  {
   "cell_type": "markdown",
   "metadata": {},
   "source": [
    "### What percentage of the population of the state is urbanized in the most recent year? \n",
    "\n",
    "We calculated the population percentage of the state that is urbanized by comparing it with the [Urbanized Area Value](https://en.wikipedia.org/wiki/Urban_area#United_States), 50000. If the total population is at least 50000 residents then, according to the [United States Census Bureau](https://www.census.gov/geo/reference/urban-rural.html) the area is considered urbanized."
   ]
  },
  {
   "cell_type": "code",
   "execution_count": 45,
   "metadata": {},
   "outputs": [
    {
     "name": "stdout",
     "output_type": "stream",
     "text": [
      "53.85%\n"
     ]
    }
   ],
   "source": [
    "# 2  \n",
    "# Condense the population values to represent the total population for each county\n",
    "urbanPop = shapefile.loc[:,[\"COUNTYFP10\",\"POP2018\"]]\n",
    "urbanPop = urbanPop.groupby(\"COUNTYFP10\").sum()\n",
    "\n",
    "# filter and calculate the total number of counties that is urbanized\n",
    "urbanPopCt = sum(urbanPop.POP2018 >= 50000)\n",
    "size = float(len(urbanPop))\n",
    "print(str(round(urbanPopCt / size * 100, 2)) + \"%\")"
   ]
  },
  {
   "cell_type": "markdown",
   "metadata": {},
   "source": [
    "### What percentage of the land area of the state is urbanized in the most recent year?"
   ]
  },
  {
   "cell_type": "markdown",
   "metadata": {},
   "source": [
    "In order to determine what the percentage of the land area is urbanized for the 2018, we will calculate the total number of urban areas in the state and divide that by the total number of block groups."
   ]
  },
  {
   "cell_type": "code",
   "execution_count": 40,
   "metadata": {},
   "outputs": [
    {
     "name": "stdout",
     "output_type": "stream",
     "text": [
      "71.67%\n"
     ]
    }
   ],
   "source": [
    "# 3\n",
    "# Calculate the total number of urbanized land areas\n",
    "urbanLandCt = sum(shapefile.block_category == \"urban\")\n",
    "size = float(len(shapefile))\n",
    "\n",
    "print(str(round(urbanLandCt / size * 100, 2)) + \"%\")"
   ]
  },
  {
   "cell_type": "markdown",
   "metadata": {},
   "source": [
    "### How many block groups are urbanized and how many are deurbanized over the previous decade?"
   ]
  },
  {
   "cell_type": "code",
   "execution_count": 41,
   "metadata": {},
   "outputs": [],
   "source": [
    "# 4 \n",
    "shapefile['class'] = None\n",
    "\n",
    "# Iterate through the shapefile and determine whether each block group shows a categorical change \n",
    "# over the previous decade and categorize them as urbanized, deurbanized, or no change in category.\n",
    "for index, row in shapefile.iterrows():\n",
    "    landArea = row['ALANDMI']\n",
    "    # Prevent divisible by 0 error and check for land area == 0\n",
    "    if landArea != 0:\n",
    "        popDensity = row['POP2008'] / landArea\n",
    "        category = row['block_category']\n",
    "        # Determine whether the block groups changed in categories\n",
    "        if popDensity >= 1000 and category == \"rural\" :\n",
    "            shapefile.loc[index, 'class'] = \"deurbanized\"\n",
    "        elif popDensity < 1000 and category == \"urban\":\n",
    "            shapefile.loc[index, 'class'] = \"urbanized\"\n",
    "        else :\n",
    "            shapefile.loc[index, 'class']= \"no change in category\"\n",
    "    else:\n",
    "        shapefile.loc[index, 'class']= \"no change in category\""
   ]
  },
  {
   "cell_type": "code",
   "execution_count": 42,
   "metadata": {},
   "outputs": [
    {
     "name": "stdout",
     "output_type": "stream",
     "text": [
      "65 block groups were urbanized and 2 block groups were deurbanized\n"
     ]
    }
   ],
   "source": [
    "# 5\n",
    "urbanizedCt = sum(shapefile['class'] == \"urbanized\")\n",
    "deurbanizedCt = sum(shapefile['class'] == \"deurbanized\")\n",
    "\n",
    "print(str(urbanizedCt) + \" block groups were urbanized and \" + str(deurbanizedCt) + \" block groups were deurbanized\")"
   ]
  }
 ],
 "metadata": {
  "kernelspec": {
   "display_name": "Python 2",
   "language": "python",
   "name": "python2"
  },
  "language_info": {
   "codemirror_mode": {
    "name": "ipython",
    "version": 2
   },
   "file_extension": ".py",
   "mimetype": "text/x-python",
   "name": "python",
   "nbconvert_exporter": "python",
   "pygments_lexer": "ipython2",
   "version": "2.7.15"
  }
 },
 "nbformat": 4,
 "nbformat_minor": 2
}
