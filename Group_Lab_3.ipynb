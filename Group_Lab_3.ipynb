{
 "cells": [
  {
   "cell_type": "code",
   "execution_count": null,
   "metadata": {},
   "outputs": [],
   "source": [
    "import geopandas as gpd"
   ]
  },
  {
   "cell_type": "markdown",
   "metadata": {},
   "source": [
    "# <center>__Group Lab 3: Comparative Urban Change in US States__</center>\n",
    "\n",
    "__Authors:__ Kevin Ho, Carmelita Deleon, Jin Chang, Billy Wang, Alisha Husain <br>\n",
    "__Date:__ February 20, 2019"
   ]
  },
  {
   "cell_type": "markdown",
   "metadata": {},
   "source": [
    "## PART 1"
   ]
  },
  {
   "cell_type": "markdown",
   "metadata": {},
   "source": [
    "### __What makes a state \"urban\" or \"not urban\"?__\n",
    "An urban area is the region that surrounds a city. Also, urban areas usually refers to a human settlement that has high population density and infrustructure of a built environment [(SOURCE: Wikipedia)](https://en.wikipedia.org/wiki/Urban_area). Urban areas include towns and cities - places where opportunities for education, transportation, business and social interaction and overall better standard of living are prevalent [(SOURCE)](http://www.differencebetween.net/miscellaneous/difference-between-urban-and-rural/). Places with urban areas are filled with densely deveoloped territory and encompass residential, commercial, and other non-residential urban land uses. \n",
    "\n",
    "While \"urban\" areas contain a large amount of human activity, \"not urban\" areas (commonly referred to as rural areas) have less representation of infrastructure. Rural areas are located outside towns and cities. Rural areas have a low representation of population density and small settlements (villages). \n",
    "\n",
    "### _Examples of urban areas and rural areas_\n",
    "- [Los Angeles, CA](https://en.wikipedia.org/wiki/Greater_Los_Angeles): With a population of nearly 18 million, Los Angeles is filled with opportunities and has a high population density. \n",
    "- [Leavenworth, WA](https://www.onlyinyourstate.com/washington/delightful-small-towns-rural-wa/): This rural town had a population of 1,979 in 2014. [(SOURCE: City-data)](http://www.city-data.com/city/Leavenworth-Washington.html)\n",
    "\n",
    "### Overview of the data\n",
    "\n",
    "### Potential issues with using US Census data (demographic)"
   ]
  },
  {
   "cell_type": "markdown",
   "metadata": {},
   "source": [
    "## PART 2"
   ]
  },
  {
   "cell_type": "code",
   "execution_count": null,
   "metadata": {},
   "outputs": [],
   "source": [
    "datafile = open(\"./data/WashingtonFIPS.dbf\", \"rb\")\n",
    "data = datafile.read()\n",
    "\n",
    "print(data)"
   ]
  },
  {
   "cell_type": "code",
   "execution_count": null,
   "metadata": {},
   "outputs": [],
   "source": [
    "shapefile = gpd.read_file(\"./data/saep_bg10/saep_bg10.shp\")\n",
    "\n",
    "print(shapefile.head(5))"
   ]
  },
  {
   "cell_type": "markdown",
   "metadata": {},
   "source": [
    "## PART 3"
   ]
  },
  {
   "cell_type": "markdown",
   "metadata": {},
   "source": [
    "### __What Makes An Area Urban and Rural__\n",
    "Our team compared the 2018's estimated total population to a population value of 2,500. This specific value represents whether an area is considered urban or rural. An article from the [United States Census Bureau](https://www2.census.gov/geo/pdfs/reference/GARM/Ch12GARM.pdf) states that an area is classified as urban if there are at least 2,500 inhabitants. While in contrast, for rural areas the number of inhabitants would be less than 2,500 residents. "
   ]
  },
  {
   "cell_type": "code",
   "execution_count": null,
   "metadata": {},
   "outputs": [],
   "source": [
    "# 1\n",
    "shapefile['block_category'] = None\n",
    "\n",
    "# Iterate through the shapefile and categorize each block group value as urban or rural.\n",
    "for index, row in shapefile.iterrows():\n",
    "    if row['POP2018'] >= 2500:\n",
    "        shapefile.loc[index, 'block_category'] = \"urban\"\n",
    "    else :\n",
    "        shapefile.loc[index, 'block_category'] = \"rural\"\n",
    "        \n",
    "print(shapefile['block_category'].head())"
   ]
  },
  {
   "cell_type": "markdown",
   "metadata": {},
   "source": [
    "### What percentage of the population of the state is urbanized in the most recent year? \n",
    "\n",
    "Urbanized = greater than or equal to 50000 inhabitants"
   ]
  },
  {
   "cell_type": "code",
   "execution_count": null,
   "metadata": {},
   "outputs": [],
   "source": [
    "# 2 Per block group \n",
    "urbanPopCt = sum(shapefile.block_category == \"urban\")\n",
    "size = float(len(shapefile))\n",
    "\n",
    "print(str(round(urbanPopCt / size * 100, 2)) + \"%\")"
   ]
  },
  {
   "cell_type": "code",
   "execution_count": null,
   "metadata": {},
   "outputs": [],
   "source": [
    "# 2 per county \n",
    "# Condense the population values to represent the total population for each county\n",
    "urbanPop = shapefile.loc[:,[\"COUNTYFP10\",\"POP2018\"]]\n",
    "urbanPop = urbanPop.groupby(\"COUNTYFP10\").sum()\n",
    "\n",
    "# filter and calculate the total number of counties that is urbanized\n",
    "urbanPopCt = sum(urbanPop.POP2018 >= 50000)\n",
    "size = float(len(urbanPop))\n",
    "\n",
    "print(str(round(urbanPopCt / size * 100, 2)) + \"%\")"
   ]
  },
  {
   "cell_type": "markdown",
   "metadata": {},
   "source": [
    "### What percentage of the land area of the state is urbanized in the most recent year?"
   ]
  },
  {
   "cell_type": "markdown",
   "metadata": {},
   "source": [
    "In order to determine what the percentage of the land area is urbanized for the 2018, we will calculate population density, residents per square mile. Then, our team will categorize that value as either urban or rural by comparing it with a population density value of 1000 people per square mile. This value is defined by the [United States Census Bureau](https://www2.census.gov/geo/pdfs/reference/GARM/Ch12GARM.pdf)."
   ]
  },
  {
   "cell_type": "code",
   "execution_count": null,
   "metadata": {},
   "outputs": [],
   "source": [
    "# 3\n",
    "# Filter the dataframe for any group blocks that contains an land area of 0\n",
    "landArea = shapefile[(shapefile.ALANDMI != 0) & (shapefile.POP2018 != 0)]\n",
    "\n",
    "# Calculate the total number of urbanized land areas\n",
    "urbanLandCt = sum((landArea.POP2018 / landArea.ALANDMI) >= 1000)\n",
    "size = float(len(shapefile))\n",
    "\n",
    "print((urbanLandCt / size * 100))"
   ]
  },
  {
   "cell_type": "markdown",
   "metadata": {},
   "source": [
    "### How many block groups are urbanized and how many are deurbanized over the previous decade?"
   ]
  },
  {
   "cell_type": "code",
   "execution_count": null,
   "metadata": {},
   "outputs": [],
   "source": [
    "# 4 \n",
    "shapefile['class'] = None\n",
    "\n",
    "# Iterate through the shapefile and determine whether each block group shows a categorical change \n",
    "# over the previous decade and categorize them as urbanized, deurbanized, or no change in category.\n",
    "for index, row in shapefile.iterrows():\n",
    "    pop08 = row['POP2008']\n",
    "    category = row['block_category']\n",
    "    # Determine whether the block groups changed in categories\n",
    "    if pop08 >= 2500 and category == \"rural\" :\n",
    "        shapefile.loc[index, 'class'] = \"deurbanized\"\n",
    "    elif pop08 < 2500 and category == \"urban\":\n",
    "        shapefile.loc[index, 'class'] = \"urbanized\"\n",
    "    else :\n",
    "        shapefile.loc[index, 'class']= \"no change in category\""
   ]
  },
  {
   "cell_type": "code",
   "execution_count": null,
   "metadata": {},
   "outputs": [],
   "source": [
    "# 5\n",
    "urbanizedCt = sum(shapefile['class'] == \"urbanized\")\n",
    "deurbanizedCt = sum(shapefile['class'] == \"deurbanized\")\n",
    "\n",
    "print(str(urbanizedCt) + \" block groups were urbanized and \" + str(deurbanizedCt) + \" block groups were deurbanized\")"
   ]
  }
 ],
 "metadata": {
  "kernelspec": {
   "display_name": "Python 2",
   "language": "python",
   "name": "python2"
  },
  "language_info": {
   "codemirror_mode": {
    "name": "ipython",
    "version": 2
   },
   "file_extension": ".py",
   "mimetype": "text/x-python",
   "name": "python",
   "nbconvert_exporter": "python",
   "pygments_lexer": "ipython2",
   "version": "2.7.15"
  }
 },
 "nbformat": 4,
 "nbformat_minor": 2
}
