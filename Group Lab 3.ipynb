{
 "cells": [
  {
   "cell_type": "markdown",
   "metadata": {},
   "source": [
    "## PART 1"
   ]
  },
  {
   "cell_type": "markdown",
   "metadata": {},
   "source": [
    "### __\"What makes a state \"urban\" or \"not urban\"?__\n",
    "An urban area usually refers to a human settlement that has high population density and infrustructure of a built environment [SOURCE WIKI](). Urban areas include towns and cities - places where opportunities for education, transportation, business and social interaction and overall better standard of living are prevalent [SOURCE DIFF](). Places with urban areas are filled with densely deveoloped territory and encompass residential, commercial, and other non-residential urban land uses. \n",
    "While \"urban\" areas contain a large amount of human activity, \"not urban\" areas (commonly referred to as rural areas) have less representation of infrastructure. Rural areas are located outside towns and cities. Rural areas have a low population density and small settlements (villages)."
   ]
  },
  {
   "cell_type": "markdown",
   "metadata": {},
   "source": [
    "## PART 3"
   ]
  },
  {
   "cell_type": "code",
   "execution_count": 1,
   "metadata": {},
   "outputs": [
    {
     "name": "stdout",
     "output_type": "stream",
     "text": [
      "\u0003q\u0004\u0013'\u0000\u0000\u0000a\u0000�\u0001\u0000\u0000\u0000\u0000\u0000\u0000\u0000\u0000\u0000\u0000\u0000\u0000\u0000\u0000\u0000\u0000\u0000W\u0000\u0000CountyName\u0000C\u0000\u0000\u0000\u0000�\u0000\u0000\u0000\u0000\u0000\u0000\u0000\u0000\u0000\u0000\u0000\u0000\u0000\u0000\u0000FIPSCounty\u0000C\u0000\u0000\u0000\u0000�\u0000\u0000\u0000\u0000\u0000\u0000\u0000\u0000\u0000\u0000\u0000\u0000\u0000\u0000\u0000\r",
      " Adams                                                                                                                                                                                                                                                         001                                                                                                                                                                                                                                                            Asotin                                                                                                                                                                                                                                                        003                                                                                                                                                                                                                                                            Benton                                                                                                                                                                                                                                                        005                                                                                                                                                                                                                                                            Chelan                                                                                                                                                                                                                                                        007                                                                                                                                                                                                                                                            Clallam                                                                                                                                                                                                                                                       009                                                                                                                                                                                                                                                            Clark                                                                                                                                                                                                                                                         011                                                                                                                                                                                                                                                            Columbia                                                                                                                                                                                                                                                      013                                                                                                                                                                                                                                                            Cowlitz                                                                                                                                                                                                                                                       015                                                                                                                                                                                                                                                            Douglas                                                                                                                                                                                                                                                       017                                                                                                                                                                                                                                                            Ferry                                                                                                                                                                                                                                                         019                                                                                                                                                                                                                                                            Franklin                                                                                                                                                                                                                                                      021                                                                                                                                                                                                                                                            Garfield                                                                                                                                                                                                                                                      023                                                                                                                                                                                                                                                            Grant                                                                                                                                                                                                                                                         025                                                                                                                                                                                                                                                            Grays Harbor                                                                                                                                                                                                                                                  027                                                                                                                                                                                                                                                            Island                                                                                                                                                                                                                                                        029                                                                                                                                                                                                                                                            Jefferson                                                                                                                                                                                                                                                     031                                                                                                                                                                                                                                                            King                                                                                                                                                                                                                                                          033                                                                                                                                                                                                                                                            Kitsap                                                                                                                                                                                                                                                        035                                                                                                                                                                                                                                                            Kittitas                                                                                                                                                                                                                                                      037                                                                                                                                                                                                                                                            Klickitat                                                                                                                                                                                                                                                     039                                                                                                                                                                                                                                                            Lewis                                                                                                                                                                                                                                                         041                                                                                                                                                                                                                                                            Lincoln                                                                                                                                                                                                                                                       043                                                                                                                                                                                                                                                            Mason                                                                                                                                                                                                                                                         045                                                                                                                                                                                                                                                            Okanogan                                                                                                                                                                                                                                                      047                                                                                                                                                                                                                                                            Pacific                                                                                                                                                                                                                                                       049                                                                                                                                                                                                                                                            Pend Oreille                                                                                                                                                                                                                                                  051                                                                                                                                                                                                                                                            Pierce                                                                                                                                                                                                                                                        053                                                                                                                                                                                                                                                            San Juan                                                                                                                                                                                                                                                      055                                                                                                                                                                                                                                                            Skagit                                                                                                                                                                                                                                                        057                                                                                                                                                                                                                                                            Skamania                                                                                                                                                                                                                                                      059                                                                                                                                                                                                                                                            Snohomish                                                                                                                                                                                                                                                     061                                                                                                                                                                                                                                                            Spokane                                                                                                                                                                                                                                                       063                                                                                                                                                                                                                                                            Stevens                                                                                                                                                                                                                                                       065                                                                                                                                                                                                                                                            Thurston                                                                                                                                                                                                                                                      067                                                                                                                                                                                                                                                            Wahkiakum                                                                                                                                                                                                                                                     069                                                                                                                                                                                                                                                            Walla Walla                                                                                                                                                                                                                                                   071                                                                                                                                                                                                                                                            Whatcom                                                                                                                                                                                                                                                       073                                                                                                                                                                                                                                                            Whitman                                                                                                                                                                                                                                                       075                                                                                                                                                                                                                                                            Yakima                                                                                                                                                                                                                                                        077                                                                                                                                                                                                                                                           \u001a\n"
     ]
    }
   ],
   "source": [
    "import geopandas as gpd\n",
    "import numpy as np\n",
    "\n",
    "datafile = open(\"./data/WashingtonFIPS.dbf\", \"rb\")\n",
    "data = datafile.read()\n",
    "\n",
    "print(data)"
   ]
  },
  {
   "cell_type": "code",
   "execution_count": 2,
   "metadata": {},
   "outputs": [
    {
     "name": "stdout",
     "output_type": "stream",
     "text": [
      "  STATEFP10 COUNTYFP10 TRACTCE10 BLKGRPCE10       GEOID10     NAMELSAD10  \\\n",
      "0        53        001    950100          1  530019501001  Block Group 1   \n",
      "1        53        001    950100          2  530019501002  Block Group 2   \n",
      "2        53        001    950100          3  530019501003  Block Group 3   \n",
      "3        53        001    950200          1  530019502001  Block Group 1   \n",
      "4        53        001    950200          2  530019502002  Block Group 2   \n",
      "5        53        001    950200          3  530019502003  Block Group 3   \n",
      "6        53        001    950300          1  530019503001  Block Group 1   \n",
      "7        53        001    950300          2  530019503002  Block Group 2   \n",
      "8        53        001    950300          3  530019503003  Block Group 3   \n",
      "9        53        001    950300          4  530019503004  Block Group 4   \n",
      "\n",
      "  MTFCC10 FUNCSTAT10  INTPTLON10  INTPTLAT10  ...  OHU2014  OHU2015  OHU2016  \\\n",
      "0   G5030          S -118.398815   47.150809  ...  277.494  279.680  287.530   \n",
      "1   G5030          S -118.351143   47.135101  ...  524.831  521.228  517.427   \n",
      "2   G5030          S -118.382148   47.138222  ...  246.344  243.965  242.033   \n",
      "3   G5030          S -118.219484   46.874027  ...  208.923  203.761  205.502   \n",
      "4   G5030          S -118.522323   46.968569  ...  285.857  286.251  278.398   \n",
      "5   G5030          S -118.753068   46.939578  ...  203.692  206.268  207.424   \n",
      "6   G5030          S -119.181622   46.789076  ...  487.634  489.867  496.758   \n",
      "7   G5030          S -119.009197   46.828282  ...  406.117  410.721  414.886   \n",
      "8   G5030          S -119.296128   46.852714  ...  344.152  347.427  352.653   \n",
      "9   G5030          S -119.269181   46.771170  ...  297.173  298.552  303.678   \n",
      "\n",
      "   OHU2017  OHU2018  COHU00_10  PCOHU00_10  COHU10_18  PCOHU10_18  \\\n",
      "0  287.522  287.758     33.751       0.143     17.758       0.066   \n",
      "1  516.077  524.645      3.398       0.007     -0.355       0.000   \n",
      "2  241.365  245.491    -26.312      -0.097     -0.509      -0.002   \n",
      "3  204.547  202.854    -21.255      -0.093     -5.146      -0.025   \n",
      "4  278.400  267.983     -1.330      -0.005    -22.017      -0.076   \n",
      "5  209.674  209.810      7.794       0.040      8.810       0.044   \n",
      "6  499.751  501.974     63.533       0.158     35.974       0.077   \n",
      "7  415.793  414.381     46.597       0.131     13.381       0.033   \n",
      "8  353.780  362.138      6.622       0.020     31.138       0.094   \n",
      "9  304.404  308.783     42.721       0.176     23.783       0.083   \n",
      "\n",
      "                                            geometry  \n",
      "0  POLYGON ((2077217.074095237 640954.0110817049,...  \n",
      "1  POLYGON ((2165913.051240579 657352.8005365322,...  \n",
      "2  POLYGON ((2166254.454566129 657810.7137267586,...  \n",
      "3  POLYGON ((2150159.78406948 554295.8999707696, ...  \n",
      "4  POLYGON ((2082999.834788324 575018.8611698836,...  \n",
      "5  POLYGON ((2035544.166963593 579401.9638070536,...  \n",
      "6  POLYGON ((1962342.779850264 530894.4193513815,...  \n",
      "7  POLYGON ((2030271.191106173 579329.7872247804,...  \n",
      "8  POLYGON ((1958954.001143497 578398.7521407142,...  \n",
      "9  POLYGON ((1923649.701670551 534968.1963240971,...  \n",
      "\n",
      "[10 rows x 131 columns]\n"
     ]
    }
   ],
   "source": [
    "shapefile = gpd.read_file(\"./data/saep_bg10/saep_bg10.shp\")\n",
    "print(shapefile.head(10))"
   ]
  },
  {
   "cell_type": "code",
   "execution_count": 3,
   "metadata": {},
   "outputs": [],
   "source": [
    "shapefile['block_category'] = np.nan\n",
    "\n",
    "# Iterate through the data file and categorize each block group value as urban or rural.\n"
   ]
  },
  {
   "cell_type": "code",
   "execution_count": null,
   "metadata": {},
   "outputs": [],
   "source": []
  }
 ],
 "metadata": {
  "kernelspec": {
   "display_name": "Python 2",
   "language": "python",
   "name": "python2"
  },
  "language_info": {
   "codemirror_mode": {
    "name": "ipython",
    "version": 2
   },
   "file_extension": ".py",
   "mimetype": "text/x-python",
   "name": "python",
   "nbconvert_exporter": "python",
   "pygments_lexer": "ipython2",
   "version": "2.7.15"
  }
 },
 "nbformat": 4,
 "nbformat_minor": 2
}
